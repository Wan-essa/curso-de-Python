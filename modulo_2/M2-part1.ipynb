{
 "cells": [
  {
   "cell_type": "markdown",
   "id": "4914c7df",
   "metadata": {
    "id": "bFYatS11gOtN"
   },
   "source": [
    "# Escola de Dados - Python para inovação cívica\n",
    "\n",
    "## Módulo 2: Análise exporatória de dados do Legislativo\n",
    "\n",
    "* [Aula 02: Acessando os dados da CEAP via API](#Aula-02:-Acessando-os-dados-da-CEAP-via-API)\n",
    "* [Aula 03: Lendo os dados com Pandas](#Aula-03:-Lendo-os-dados-com-Pandas)\n",
    "    * [Dicionário de dados](#Dicionário-de-Dados)\n",
    "* [Aula 04: Organizando e visualizando os dados](#Aula-04:-Organizando-e-visualizando-os-dados)\n",
    "    * [Preenchendo valores nulos](#Preenchendo-valores-nulos) \n",
    "    * [Informando tipos na leitura dos dados](#Informando-tipos-na-leitura-dos-dados)\n",
    "    * [as type](#astype)\n",
    "    * [to_datetime](#to_datetime)\n",
    "    * [completando, substituindo e reformatando](#completando,-substituindo-e-reformatando)\n",
    "* [Aula 07: Dados da Receita Federal](#Aula-07:-Dados-da-Receita-Federal)\n",
    "* [Aula 08: Receita Federal e CEAP](#Aula-8:-Receita-Federal-e-CEAP)"
   ]
  },
  {
   "cell_type": "markdown",
   "id": "eec2c925",
   "metadata": {
    "id": "qwYEO7nyRh9H"
   },
   "source": [
    "### Aula 02: Acessando os dados da CEAP via API"
   ]
  },
  {
   "cell_type": "markdown",
   "id": "8b0ee316",
   "metadata": {
    "id": "ouMkJasFSZtx"
   },
   "source": [
    "Para baixar os arquivos das despesas pela Cota para Exercício da Atividade Parlamentar, podemos utilizar a API da Câmara Legislativa. Os arquivos de cada ano estão disponíveis via URLs no formato `http://www.camara.leg.br/cotas/Ano-{ano}.{formato}[.zip]`.\n",
    "\n",
    "Você pode encontrar mais detalhes na [documentação dos dados sobre Despesas pela Cota para Exercício da Atividade Parlamentar](https://dadosabertos.camara.leg.br/swagger/api.html#staticfile).\n",
    "\n",
    "Há diversas formas de fazer o download dos arquivos usando Python. Para esse tutorial, vamos usar o pacote `requests`."
   ]
  },
  {
   "cell_type": "code",
   "execution_count": 1,
   "id": "55c3f455",
   "metadata": {
    "id": "3lEoz1Lr5NeJ"
   },
   "outputs": [],
   "source": [
    "url = f\"http://www.camara.leg.br/cotas/Ano-2019.csv.zip\""
   ]
  },
  {
   "cell_type": "code",
   "execution_count": 2,
   "id": "e335c8c7",
   "metadata": {
    "id": "H-ShSuQJ5ICY"
   },
   "outputs": [],
   "source": [
    "import requests\n",
    "\n",
    "# fazendo o download do conteúdo do arquivo\n",
    "r = requests.get(url)"
   ]
  },
  {
   "cell_type": "code",
   "execution_count": 3,
   "id": "a80fbd1c",
   "metadata": {
    "id": "5aXzYO4MziQn"
   },
   "outputs": [],
   "source": [
    "# abrindo um arquivo no seu computador\n",
    "file = open(f\"Ano-2019.csv.zip\", \"wb\")\n",
    "\n",
    "# escrever o conteúdo\n",
    "file.write(r.content)\n",
    "file.close()"
   ]
  },
  {
   "cell_type": "code",
   "execution_count": null,
   "id": "4407d92a",
   "metadata": {
    "id": "Xmzmw4oLzg-k"
   },
   "outputs": [],
   "source": [
    "# outra forma de criar arquivos, e escrever conteúdo\n",
    "\n",
    "# with open(f\"Ano-{year}.csv.zip\", \"wb\") as code:\n",
    "#    code.write(r.content)"
   ]
  },
  {
   "cell_type": "markdown",
   "id": "4c1d34dc",
   "metadata": {
    "id": "PcB4ko8UUaP3"
   },
   "source": [
    "Como o arquivo baixado pela API é um arquivo zip, vamos precisar descompatar. Vamos usar o `zipfile`, um módulo que nos dá ferramentas para diversas manipulações de arquivos zipados."
   ]
  },
  {
   "cell_type": "code",
   "execution_count": 4,
   "id": "db445c34",
   "metadata": {
    "id": "SpeJGZ5s4tYR"
   },
   "outputs": [],
   "source": [
    "from zipfile import ZipFile"
   ]
  },
  {
   "cell_type": "code",
   "execution_count": 5,
   "id": "a75fb247",
   "metadata": {
    "id": "vke0teol4w8S"
   },
   "outputs": [],
   "source": [
    "zip_file = ZipFile(f\"Ano-2019.csv.zip\", 'r')"
   ]
  },
  {
   "cell_type": "code",
   "execution_count": 6,
   "id": "ba5a3fe0",
   "metadata": {
    "colab": {
     "base_uri": "https://localhost:8080/"
    },
    "id": "K6KlfvVW4yEJ",
    "outputId": "e81a4c9e-513a-4f8a-855c-9f17c113fdb5"
   },
   "outputs": [
    {
     "data": {
      "text/plain": [
       "['Ano-2019.csv']"
      ]
     },
     "execution_count": 6,
     "metadata": {},
     "output_type": "execute_result"
    }
   ],
   "source": [
    "zip_file.namelist()"
   ]
  },
  {
   "cell_type": "code",
   "execution_count": 7,
   "id": "835aaa1a",
   "metadata": {
    "colab": {
     "base_uri": "https://localhost:8080/",
     "height": 37
    },
    "id": "XpnL3tJe5Lm_",
    "outputId": "cff349aa-b17f-4ab0-8498-7ce6df1de82f"
   },
   "outputs": [
    {
     "data": {
      "text/plain": [
       "'reembolso-2019/Ano-2019.csv'"
      ]
     },
     "execution_count": 7,
     "metadata": {},
     "output_type": "execute_result"
    }
   ],
   "source": [
    "zip_file.extract(member=f\"Ano-2019.csv\", path=f\"reembolso-2019\")"
   ]
  },
  {
   "cell_type": "code",
   "execution_count": null,
   "id": "aea63be7",
   "metadata": {
    "id": "qF4UmfPqiELQ"
   },
   "outputs": [],
   "source": [
    "# caso a gente queira extrair todo o conteúdo do arquivo zip\n",
    "\n",
    "# zip_file.extractall(path=f\"reimbursements-{year}\")"
   ]
  },
  {
   "cell_type": "code",
   "execution_count": 8,
   "id": "3a113e58",
   "metadata": {
    "id": "HWMAqsBT5W8e"
   },
   "outputs": [],
   "source": [
    "zip_file.close()"
   ]
  },
  {
   "cell_type": "markdown",
   "id": "e7244afa",
   "metadata": {
    "id": "9V6UrEjQiS4S"
   },
   "source": [
    "### Aula 03: Lendo os dados com Pandas"
   ]
  },
  {
   "cell_type": "code",
   "execution_count": 9,
   "id": "55880b49",
   "metadata": {
    "id": "yalZ9LW96ONR",
    "scrolled": true
   },
   "outputs": [],
   "source": [
    "import pandas as pd"
   ]
  },
  {
   "cell_type": "code",
   "execution_count": 10,
   "id": "88ab1cb1",
   "metadata": {
    "colab": {
     "base_uri": "https://localhost:8080/",
     "height": 477
    },
    "id": "hVtndpQ4ih4b",
    "outputId": "ac7cb771-b5df-49ab-cdef-31bcf0015aef",
    "scrolled": false
   },
   "outputs": [
    {
     "ename": "ParserError",
     "evalue": "Error tokenizing data. C error: Expected 1 fields in line 116, saw 2\n",
     "output_type": "error",
     "traceback": [
      "\u001b[0;31m---------------------------------------------------------------------------\u001b[0m",
      "\u001b[0;31mParserError\u001b[0m                               Traceback (most recent call last)",
      "\u001b[0;32m<ipython-input-10-da86862ef50b>\u001b[0m in \u001b[0;36m<module>\u001b[0;34m\u001b[0m\n\u001b[0;32m----> 1\u001b[0;31m \u001b[0mpd\u001b[0m\u001b[0;34m.\u001b[0m\u001b[0mread_csv\u001b[0m\u001b[0;34m(\u001b[0m\u001b[0;34m\"reembolso-2019/Ano-2019.csv\"\u001b[0m\u001b[0;34m)\u001b[0m\u001b[0;34m\u001b[0m\u001b[0;34m\u001b[0m\u001b[0m\n\u001b[0m",
      "\u001b[0;32m~/.local/lib/python3.9/site-packages/pandas/io/parsers.py\u001b[0m in \u001b[0;36mread_csv\u001b[0;34m(filepath_or_buffer, sep, delimiter, header, names, index_col, usecols, squeeze, prefix, mangle_dupe_cols, dtype, engine, converters, true_values, false_values, skipinitialspace, skiprows, skipfooter, nrows, na_values, keep_default_na, na_filter, verbose, skip_blank_lines, parse_dates, infer_datetime_format, keep_date_col, date_parser, dayfirst, cache_dates, iterator, chunksize, compression, thousands, decimal, lineterminator, quotechar, quoting, doublequote, escapechar, comment, encoding, dialect, error_bad_lines, warn_bad_lines, delim_whitespace, low_memory, memory_map, float_precision, storage_options)\u001b[0m\n\u001b[1;32m    608\u001b[0m     \u001b[0mkwds\u001b[0m\u001b[0;34m.\u001b[0m\u001b[0mupdate\u001b[0m\u001b[0;34m(\u001b[0m\u001b[0mkwds_defaults\u001b[0m\u001b[0;34m)\u001b[0m\u001b[0;34m\u001b[0m\u001b[0;34m\u001b[0m\u001b[0m\n\u001b[1;32m    609\u001b[0m \u001b[0;34m\u001b[0m\u001b[0m\n\u001b[0;32m--> 610\u001b[0;31m     \u001b[0;32mreturn\u001b[0m \u001b[0m_read\u001b[0m\u001b[0;34m(\u001b[0m\u001b[0mfilepath_or_buffer\u001b[0m\u001b[0;34m,\u001b[0m \u001b[0mkwds\u001b[0m\u001b[0;34m)\u001b[0m\u001b[0;34m\u001b[0m\u001b[0;34m\u001b[0m\u001b[0m\n\u001b[0m\u001b[1;32m    611\u001b[0m \u001b[0;34m\u001b[0m\u001b[0m\n\u001b[1;32m    612\u001b[0m \u001b[0;34m\u001b[0m\u001b[0m\n",
      "\u001b[0;32m~/.local/lib/python3.9/site-packages/pandas/io/parsers.py\u001b[0m in \u001b[0;36m_read\u001b[0;34m(filepath_or_buffer, kwds)\u001b[0m\n\u001b[1;32m    466\u001b[0m \u001b[0;34m\u001b[0m\u001b[0m\n\u001b[1;32m    467\u001b[0m     \u001b[0;32mwith\u001b[0m \u001b[0mparser\u001b[0m\u001b[0;34m:\u001b[0m\u001b[0;34m\u001b[0m\u001b[0;34m\u001b[0m\u001b[0m\n\u001b[0;32m--> 468\u001b[0;31m         \u001b[0;32mreturn\u001b[0m \u001b[0mparser\u001b[0m\u001b[0;34m.\u001b[0m\u001b[0mread\u001b[0m\u001b[0;34m(\u001b[0m\u001b[0mnrows\u001b[0m\u001b[0;34m)\u001b[0m\u001b[0;34m\u001b[0m\u001b[0;34m\u001b[0m\u001b[0m\n\u001b[0m\u001b[1;32m    469\u001b[0m \u001b[0;34m\u001b[0m\u001b[0m\n\u001b[1;32m    470\u001b[0m \u001b[0;34m\u001b[0m\u001b[0m\n",
      "\u001b[0;32m~/.local/lib/python3.9/site-packages/pandas/io/parsers.py\u001b[0m in \u001b[0;36mread\u001b[0;34m(self, nrows)\u001b[0m\n\u001b[1;32m   1055\u001b[0m     \u001b[0;32mdef\u001b[0m \u001b[0mread\u001b[0m\u001b[0;34m(\u001b[0m\u001b[0mself\u001b[0m\u001b[0;34m,\u001b[0m \u001b[0mnrows\u001b[0m\u001b[0;34m=\u001b[0m\u001b[0;32mNone\u001b[0m\u001b[0;34m)\u001b[0m\u001b[0;34m:\u001b[0m\u001b[0;34m\u001b[0m\u001b[0;34m\u001b[0m\u001b[0m\n\u001b[1;32m   1056\u001b[0m         \u001b[0mnrows\u001b[0m \u001b[0;34m=\u001b[0m \u001b[0mvalidate_integer\u001b[0m\u001b[0;34m(\u001b[0m\u001b[0;34m\"nrows\"\u001b[0m\u001b[0;34m,\u001b[0m \u001b[0mnrows\u001b[0m\u001b[0;34m)\u001b[0m\u001b[0;34m\u001b[0m\u001b[0;34m\u001b[0m\u001b[0m\n\u001b[0;32m-> 1057\u001b[0;31m         \u001b[0mindex\u001b[0m\u001b[0;34m,\u001b[0m \u001b[0mcolumns\u001b[0m\u001b[0;34m,\u001b[0m \u001b[0mcol_dict\u001b[0m \u001b[0;34m=\u001b[0m \u001b[0mself\u001b[0m\u001b[0;34m.\u001b[0m\u001b[0m_engine\u001b[0m\u001b[0;34m.\u001b[0m\u001b[0mread\u001b[0m\u001b[0;34m(\u001b[0m\u001b[0mnrows\u001b[0m\u001b[0;34m)\u001b[0m\u001b[0;34m\u001b[0m\u001b[0;34m\u001b[0m\u001b[0m\n\u001b[0m\u001b[1;32m   1058\u001b[0m \u001b[0;34m\u001b[0m\u001b[0m\n\u001b[1;32m   1059\u001b[0m         \u001b[0;32mif\u001b[0m \u001b[0mindex\u001b[0m \u001b[0;32mis\u001b[0m \u001b[0;32mNone\u001b[0m\u001b[0;34m:\u001b[0m\u001b[0;34m\u001b[0m\u001b[0;34m\u001b[0m\u001b[0m\n",
      "\u001b[0;32m~/.local/lib/python3.9/site-packages/pandas/io/parsers.py\u001b[0m in \u001b[0;36mread\u001b[0;34m(self, nrows)\u001b[0m\n\u001b[1;32m   2034\u001b[0m     \u001b[0;32mdef\u001b[0m \u001b[0mread\u001b[0m\u001b[0;34m(\u001b[0m\u001b[0mself\u001b[0m\u001b[0;34m,\u001b[0m \u001b[0mnrows\u001b[0m\u001b[0;34m=\u001b[0m\u001b[0;32mNone\u001b[0m\u001b[0;34m)\u001b[0m\u001b[0;34m:\u001b[0m\u001b[0;34m\u001b[0m\u001b[0;34m\u001b[0m\u001b[0m\n\u001b[1;32m   2035\u001b[0m         \u001b[0;32mtry\u001b[0m\u001b[0;34m:\u001b[0m\u001b[0;34m\u001b[0m\u001b[0;34m\u001b[0m\u001b[0m\n\u001b[0;32m-> 2036\u001b[0;31m             \u001b[0mdata\u001b[0m \u001b[0;34m=\u001b[0m \u001b[0mself\u001b[0m\u001b[0;34m.\u001b[0m\u001b[0m_reader\u001b[0m\u001b[0;34m.\u001b[0m\u001b[0mread\u001b[0m\u001b[0;34m(\u001b[0m\u001b[0mnrows\u001b[0m\u001b[0;34m)\u001b[0m\u001b[0;34m\u001b[0m\u001b[0;34m\u001b[0m\u001b[0m\n\u001b[0m\u001b[1;32m   2037\u001b[0m         \u001b[0;32mexcept\u001b[0m \u001b[0mStopIteration\u001b[0m\u001b[0;34m:\u001b[0m\u001b[0;34m\u001b[0m\u001b[0;34m\u001b[0m\u001b[0m\n\u001b[1;32m   2038\u001b[0m             \u001b[0;32mif\u001b[0m \u001b[0mself\u001b[0m\u001b[0;34m.\u001b[0m\u001b[0m_first_chunk\u001b[0m\u001b[0;34m:\u001b[0m\u001b[0;34m\u001b[0m\u001b[0;34m\u001b[0m\u001b[0m\n",
      "\u001b[0;32mpandas/_libs/parsers.pyx\u001b[0m in \u001b[0;36mpandas._libs.parsers.TextReader.read\u001b[0;34m()\u001b[0m\n",
      "\u001b[0;32mpandas/_libs/parsers.pyx\u001b[0m in \u001b[0;36mpandas._libs.parsers.TextReader._read_low_memory\u001b[0;34m()\u001b[0m\n",
      "\u001b[0;32mpandas/_libs/parsers.pyx\u001b[0m in \u001b[0;36mpandas._libs.parsers.TextReader._read_rows\u001b[0;34m()\u001b[0m\n",
      "\u001b[0;32mpandas/_libs/parsers.pyx\u001b[0m in \u001b[0;36mpandas._libs.parsers.TextReader._tokenize_rows\u001b[0;34m()\u001b[0m\n",
      "\u001b[0;32mpandas/_libs/parsers.pyx\u001b[0m in \u001b[0;36mpandas._libs.parsers.raise_parser_error\u001b[0;34m()\u001b[0m\n",
      "\u001b[0;31mParserError\u001b[0m: Error tokenizing data. C error: Expected 1 fields in line 116, saw 2\n"
     ]
    }
   ],
   "source": [
    "pd.read_csv(\"reembolso-2019/Ano-2019.csv\")"
   ]
  },
  {
   "cell_type": "markdown",
   "id": "135892df",
   "metadata": {},
   "source": [
    "Opa! Erro na leitura do nosso arquivo. Quando encontramos esse erro na leitura de um arquivo, existe algumas possíveis causas mais comuns, uma delas é que o caracter que separa as colunas pode não ser o que o `read_csv` espera. \n",
    "\n",
    "Encontre na [documentação do read_csv](https://pandas.pydata.org/docs/reference/api/pandas.read_csv.html) qual o separador considerado padrão e depois confira no arquivo qual o separador que é utilizado. \n",
    "\n",
    "Agora, modifique a próxima célula com o que você acha que deve ser feito para que a leitura do csv aconteça sem erros."
   ]
  },
  {
   "cell_type": "code",
   "execution_count": 13,
   "id": "f4f74532",
   "metadata": {
    "colab": {
     "base_uri": "https://localhost:8080/",
     "height": 462
    },
    "id": "vF5kKe42VEjo",
    "outputId": "4454dcec-c4d8-41eb-a165-af209b4be511",
    "scrolled": true
   },
   "outputs": [],
   "source": [
    "df_reimbursements = pd.read_csv(\"reembolso-2019/Ano-2019.csv\", sep=\"???\") \n",
    "# sep == delimiter"
   ]
  },
  {
   "cell_type": "markdown",
   "id": "dfabdc7f",
   "metadata": {},
   "source": [
    "Vamos visualizar as 5 primeiras linhas do nosso Dataframe."
   ]
  },
  {
   "cell_type": "code",
   "execution_count": 14,
   "id": "6972f3d7",
   "metadata": {},
   "outputs": [
    {
     "data": {
      "text/html": [
       "<div>\n",
       "<style scoped>\n",
       "    .dataframe tbody tr th:only-of-type {\n",
       "        vertical-align: middle;\n",
       "    }\n",
       "\n",
       "    .dataframe tbody tr th {\n",
       "        vertical-align: top;\n",
       "    }\n",
       "\n",
       "    .dataframe thead th {\n",
       "        text-align: right;\n",
       "    }\n",
       "</style>\n",
       "<table border=\"1\" class=\"dataframe\">\n",
       "  <thead>\n",
       "    <tr style=\"text-align: right;\">\n",
       "      <th></th>\n",
       "      <th>txNomeParlamentar</th>\n",
       "      <th>cpf</th>\n",
       "      <th>ideCadastro</th>\n",
       "      <th>nuCarteiraParlamentar</th>\n",
       "      <th>nuLegislatura</th>\n",
       "      <th>sgUF</th>\n",
       "      <th>sgPartido</th>\n",
       "      <th>codLegislatura</th>\n",
       "      <th>numSubCota</th>\n",
       "      <th>txtDescricao</th>\n",
       "      <th>...</th>\n",
       "      <th>numAno</th>\n",
       "      <th>numParcela</th>\n",
       "      <th>txtPassageiro</th>\n",
       "      <th>txtTrecho</th>\n",
       "      <th>numLote</th>\n",
       "      <th>numRessarcimento</th>\n",
       "      <th>vlrRestituicao</th>\n",
       "      <th>nuDeputadoId</th>\n",
       "      <th>ideDocumento</th>\n",
       "      <th>urlDocumento</th>\n",
       "    </tr>\n",
       "  </thead>\n",
       "  <tbody>\n",
       "    <tr>\n",
       "      <th>0</th>\n",
       "      <td>LID.GOV-CD</td>\n",
       "      <td>NaN</td>\n",
       "      <td>NaN</td>\n",
       "      <td>NaN</td>\n",
       "      <td>2015</td>\n",
       "      <td>NaN</td>\n",
       "      <td>NaN</td>\n",
       "      <td>55</td>\n",
       "      <td>13</td>\n",
       "      <td>FORNECIMENTO DE ALIMENTAÇÃO DO PARLAMENTAR</td>\n",
       "      <td>...</td>\n",
       "      <td>2019</td>\n",
       "      <td>0</td>\n",
       "      <td>NaN</td>\n",
       "      <td>NaN</td>\n",
       "      <td>1554246</td>\n",
       "      <td>NaN</td>\n",
       "      <td>NaN</td>\n",
       "      <td>2812</td>\n",
       "      <td>6738121</td>\n",
       "      <td>http://camara.leg.br/cota-parlamentar/nota-fis...</td>\n",
       "    </tr>\n",
       "    <tr>\n",
       "      <th>1</th>\n",
       "      <td>LID.GOV-CD</td>\n",
       "      <td>NaN</td>\n",
       "      <td>NaN</td>\n",
       "      <td>NaN</td>\n",
       "      <td>2019</td>\n",
       "      <td>NaN</td>\n",
       "      <td>NaN</td>\n",
       "      <td>56</td>\n",
       "      <td>13</td>\n",
       "      <td>FORNECIMENTO DE ALIMENTAÇÃO DO PARLAMENTAR</td>\n",
       "      <td>...</td>\n",
       "      <td>2019</td>\n",
       "      <td>0</td>\n",
       "      <td>NaN</td>\n",
       "      <td>NaN</td>\n",
       "      <td>1570078</td>\n",
       "      <td>NaN</td>\n",
       "      <td>NaN</td>\n",
       "      <td>2812</td>\n",
       "      <td>6769606</td>\n",
       "      <td>http://camara.leg.br/cota-parlamentar/nota-fis...</td>\n",
       "    </tr>\n",
       "    <tr>\n",
       "      <th>2</th>\n",
       "      <td>LID.GOV-CD</td>\n",
       "      <td>NaN</td>\n",
       "      <td>NaN</td>\n",
       "      <td>NaN</td>\n",
       "      <td>2019</td>\n",
       "      <td>NaN</td>\n",
       "      <td>NaN</td>\n",
       "      <td>56</td>\n",
       "      <td>13</td>\n",
       "      <td>FORNECIMENTO DE ALIMENTAÇÃO DO PARLAMENTAR</td>\n",
       "      <td>...</td>\n",
       "      <td>2019</td>\n",
       "      <td>0</td>\n",
       "      <td>NaN</td>\n",
       "      <td>NaN</td>\n",
       "      <td>1570503</td>\n",
       "      <td>NaN</td>\n",
       "      <td>NaN</td>\n",
       "      <td>2812</td>\n",
       "      <td>6771099</td>\n",
       "      <td>http://camara.leg.br/cota-parlamentar/nota-fis...</td>\n",
       "    </tr>\n",
       "    <tr>\n",
       "      <th>3</th>\n",
       "      <td>LID.GOV-CD</td>\n",
       "      <td>NaN</td>\n",
       "      <td>NaN</td>\n",
       "      <td>NaN</td>\n",
       "      <td>2019</td>\n",
       "      <td>NaN</td>\n",
       "      <td>NaN</td>\n",
       "      <td>56</td>\n",
       "      <td>13</td>\n",
       "      <td>FORNECIMENTO DE ALIMENTAÇÃO DO PARLAMENTAR</td>\n",
       "      <td>...</td>\n",
       "      <td>2019</td>\n",
       "      <td>0</td>\n",
       "      <td>NaN</td>\n",
       "      <td>NaN</td>\n",
       "      <td>1579375</td>\n",
       "      <td>NaN</td>\n",
       "      <td>NaN</td>\n",
       "      <td>2812</td>\n",
       "      <td>6793690</td>\n",
       "      <td>http://camara.leg.br/cota-parlamentar/nota-fis...</td>\n",
       "    </tr>\n",
       "    <tr>\n",
       "      <th>4</th>\n",
       "      <td>LID.GOV-CD</td>\n",
       "      <td>NaN</td>\n",
       "      <td>NaN</td>\n",
       "      <td>NaN</td>\n",
       "      <td>2019</td>\n",
       "      <td>NaN</td>\n",
       "      <td>NaN</td>\n",
       "      <td>56</td>\n",
       "      <td>13</td>\n",
       "      <td>FORNECIMENTO DE ALIMENTAÇÃO DO PARLAMENTAR</td>\n",
       "      <td>...</td>\n",
       "      <td>2019</td>\n",
       "      <td>0</td>\n",
       "      <td>NaN</td>\n",
       "      <td>NaN</td>\n",
       "      <td>1590980</td>\n",
       "      <td>NaN</td>\n",
       "      <td>NaN</td>\n",
       "      <td>2812</td>\n",
       "      <td>6821674</td>\n",
       "      <td>http://camara.leg.br/cota-parlamentar/nota-fis...</td>\n",
       "    </tr>\n",
       "  </tbody>\n",
       "</table>\n",
       "<p>5 rows × 31 columns</p>\n",
       "</div>"
      ],
      "text/plain": [
       "  txNomeParlamentar  cpf  ideCadastro  nuCarteiraParlamentar  nuLegislatura  \\\n",
       "0        LID.GOV-CD  NaN          NaN                    NaN           2015   \n",
       "1        LID.GOV-CD  NaN          NaN                    NaN           2019   \n",
       "2        LID.GOV-CD  NaN          NaN                    NaN           2019   \n",
       "3        LID.GOV-CD  NaN          NaN                    NaN           2019   \n",
       "4        LID.GOV-CD  NaN          NaN                    NaN           2019   \n",
       "\n",
       "  sgUF sgPartido  codLegislatura  numSubCota  \\\n",
       "0  NaN       NaN              55          13   \n",
       "1  NaN       NaN              56          13   \n",
       "2  NaN       NaN              56          13   \n",
       "3  NaN       NaN              56          13   \n",
       "4  NaN       NaN              56          13   \n",
       "\n",
       "                                 txtDescricao  ...  numAno numParcela  \\\n",
       "0  FORNECIMENTO DE ALIMENTAÇÃO DO PARLAMENTAR  ...    2019          0   \n",
       "1  FORNECIMENTO DE ALIMENTAÇÃO DO PARLAMENTAR  ...    2019          0   \n",
       "2  FORNECIMENTO DE ALIMENTAÇÃO DO PARLAMENTAR  ...    2019          0   \n",
       "3  FORNECIMENTO DE ALIMENTAÇÃO DO PARLAMENTAR  ...    2019          0   \n",
       "4  FORNECIMENTO DE ALIMENTAÇÃO DO PARLAMENTAR  ...    2019          0   \n",
       "\n",
       "  txtPassageiro txtTrecho  numLote  numRessarcimento vlrRestituicao  \\\n",
       "0           NaN       NaN  1554246               NaN            NaN   \n",
       "1           NaN       NaN  1570078               NaN            NaN   \n",
       "2           NaN       NaN  1570503               NaN            NaN   \n",
       "3           NaN       NaN  1579375               NaN            NaN   \n",
       "4           NaN       NaN  1590980               NaN            NaN   \n",
       "\n",
       "   nuDeputadoId  ideDocumento  \\\n",
       "0          2812       6738121   \n",
       "1          2812       6769606   \n",
       "2          2812       6771099   \n",
       "3          2812       6793690   \n",
       "4          2812       6821674   \n",
       "\n",
       "                                        urlDocumento  \n",
       "0  http://camara.leg.br/cota-parlamentar/nota-fis...  \n",
       "1  http://camara.leg.br/cota-parlamentar/nota-fis...  \n",
       "2  http://camara.leg.br/cota-parlamentar/nota-fis...  \n",
       "3  http://camara.leg.br/cota-parlamentar/nota-fis...  \n",
       "4  http://camara.leg.br/cota-parlamentar/nota-fis...  \n",
       "\n",
       "[5 rows x 31 columns]"
      ]
     },
     "execution_count": 14,
     "metadata": {},
     "output_type": "execute_result"
    }
   ],
   "source": [
    "df_reimbursements.head()"
   ]
  },
  {
   "cell_type": "markdown",
   "id": "06bae264",
   "metadata": {},
   "source": [
    "## Como podemos fazer para visualizar as 10 primeiras linhas?\n",
    "\n",
    "Escreva e rode o código na célula abaixo."
   ]
  },
  {
   "cell_type": "code",
   "execution_count": null,
   "id": "6cdc90f5",
   "metadata": {},
   "outputs": [],
   "source": []
  },
  {
   "cell_type": "markdown",
   "id": "e34e98e9",
   "metadata": {},
   "source": [
    "Podemos também recuperar uma amosta aleatória do nosso Dataframe. Para isso, usamos o [`sample`](https://pandas.pydata.org/pandas-docs/stable/reference/api/pandas.DataFrame.sample.html)."
   ]
  },
  {
   "cell_type": "code",
   "execution_count": 15,
   "id": "ed4d422d",
   "metadata": {},
   "outputs": [
    {
     "data": {
      "text/html": [
       "<div>\n",
       "<style scoped>\n",
       "    .dataframe tbody tr th:only-of-type {\n",
       "        vertical-align: middle;\n",
       "    }\n",
       "\n",
       "    .dataframe tbody tr th {\n",
       "        vertical-align: top;\n",
       "    }\n",
       "\n",
       "    .dataframe thead th {\n",
       "        text-align: right;\n",
       "    }\n",
       "</style>\n",
       "<table border=\"1\" class=\"dataframe\">\n",
       "  <thead>\n",
       "    <tr style=\"text-align: right;\">\n",
       "      <th></th>\n",
       "      <th>txNomeParlamentar</th>\n",
       "      <th>cpf</th>\n",
       "      <th>ideCadastro</th>\n",
       "      <th>nuCarteiraParlamentar</th>\n",
       "      <th>nuLegislatura</th>\n",
       "      <th>sgUF</th>\n",
       "      <th>sgPartido</th>\n",
       "      <th>codLegislatura</th>\n",
       "      <th>numSubCota</th>\n",
       "      <th>txtDescricao</th>\n",
       "      <th>...</th>\n",
       "      <th>numAno</th>\n",
       "      <th>numParcela</th>\n",
       "      <th>txtPassageiro</th>\n",
       "      <th>txtTrecho</th>\n",
       "      <th>numLote</th>\n",
       "      <th>numRessarcimento</th>\n",
       "      <th>vlrRestituicao</th>\n",
       "      <th>nuDeputadoId</th>\n",
       "      <th>ideDocumento</th>\n",
       "      <th>urlDocumento</th>\n",
       "    </tr>\n",
       "  </thead>\n",
       "  <tbody>\n",
       "    <tr>\n",
       "      <th>48779</th>\n",
       "      <td>Cacá Leão</td>\n",
       "      <td>7.975357e+10</td>\n",
       "      <td>93083.0</td>\n",
       "      <td>193.0</td>\n",
       "      <td>2019</td>\n",
       "      <td>BA</td>\n",
       "      <td>PP</td>\n",
       "      <td>56</td>\n",
       "      <td>14</td>\n",
       "      <td>HOSPEDAGEM ,EXCETO DO PARLAMENTAR NO DISTRITO ...</td>\n",
       "      <td>...</td>\n",
       "      <td>2019</td>\n",
       "      <td>0</td>\n",
       "      <td>NaN</td>\n",
       "      <td>NaN</td>\n",
       "      <td>1570719</td>\n",
       "      <td>NaN</td>\n",
       "      <td>NaN</td>\n",
       "      <td>2897</td>\n",
       "      <td>6771100</td>\n",
       "      <td>https://www.camara.leg.br/cota-parlamentar/doc...</td>\n",
       "    </tr>\n",
       "  </tbody>\n",
       "</table>\n",
       "<p>1 rows × 31 columns</p>\n",
       "</div>"
      ],
      "text/plain": [
       "      txNomeParlamentar           cpf  ideCadastro  nuCarteiraParlamentar  \\\n",
       "48779         Cacá Leão  7.975357e+10      93083.0                  193.0   \n",
       "\n",
       "       nuLegislatura sgUF sgPartido  codLegislatura  numSubCota  \\\n",
       "48779           2019   BA        PP              56          14   \n",
       "\n",
       "                                            txtDescricao  ...  numAno  \\\n",
       "48779  HOSPEDAGEM ,EXCETO DO PARLAMENTAR NO DISTRITO ...  ...    2019   \n",
       "\n",
       "      numParcela txtPassageiro txtTrecho  numLote  numRessarcimento  \\\n",
       "48779          0           NaN       NaN  1570719               NaN   \n",
       "\n",
       "      vlrRestituicao  nuDeputadoId  ideDocumento  \\\n",
       "48779            NaN          2897       6771100   \n",
       "\n",
       "                                            urlDocumento  \n",
       "48779  https://www.camara.leg.br/cota-parlamentar/doc...  \n",
       "\n",
       "[1 rows x 31 columns]"
      ]
     },
     "execution_count": 15,
     "metadata": {},
     "output_type": "execute_result"
    }
   ],
   "source": [
    "df_reimbursements.sample()"
   ]
  },
  {
   "cell_type": "markdown",
   "id": "04ac3026",
   "metadata": {},
   "source": [
    "## Como podemos fazer para visualizar 5 amostras aleatórias?"
   ]
  },
  {
   "cell_type": "code",
   "execution_count": null,
   "id": "fbde4877",
   "metadata": {},
   "outputs": [],
   "source": []
  },
  {
   "cell_type": "markdown",
   "id": "be0725bb",
   "metadata": {
    "id": "3LhB4RCUVMm7"
   },
   "source": [
    "#### Dicionário de Dados"
   ]
  },
  {
   "cell_type": "markdown",
   "id": "792b06d1",
   "metadata": {
    "id": "vvvTZj4BVeU_"
   },
   "source": [
    "Um passo importante para dar antes de começar a análisar é entender os dados que estamos manipulando. \n",
    "\n",
    "*Sempre procure o significado dos campos, procure entender quais os tipos de dados preenchem aquele campo. São dados numéricos? São caracteres? Não palavras usadas para categorizar/classificar os dados?*"
   ]
  },
  {
   "cell_type": "markdown",
   "id": "18d86a62",
   "metadata": {
    "id": "MC-aJ8YviZNb"
   },
   "source": [
    "| Elemento de Dado          | Nome do Dado                           | Definição do Dado                                                                                                                                                                                                                                                                                                                                                                                                                   |   |   |\n",
    "|---------------------------|----------------------------------------|-------------------------------------------------------------------------------------------------------------------------------------------------------------------------------------------------------------------------------------------------------------------------------------------------------------------------------------------------------------------------------------------------------------------------------------|---|---|\n",
    "| txNomeParlamentar         | Nome Parlamentar                       | Nome adotado pelo Parlamentar ao tomar posse do seu mandato. Compõe-se de dois elementos: um prenome e o nome; dois nomes; ou dois prenomes, salvo, a juízo do Presidente da Casa legislativa, que poderá alterar essa regra para que não ocorram confusões.                                                                                                                                                                        |   |   |\n",
    "| ideCadastro               | Identificador Único do Parlamentar     | Número que identifica unicamente um deputado federal na CD.                                                                                                                                                                                                                                                                                                                                                                         |   |   |\n",
    "| nuCarteiraParlamentar     | Número da  Carteira Parlamentar        | Documento usado para identificar um deputado federal na CD. Pode alterar a cada Legislatura nova.                                                                                                                                                                                                                                                                                                                                   |   |   |\n",
    "| nuLegislatura             | Número da  Legislatura                 | No contexto da cota CEAP, representa o ano base de início da legislatura e é utilizado para compor a Carteira Parlamentar, pois esta poderá ser alterada à medida que se muda de Legislatura.                                                                                                                                     |   |   |\n",
    "| sgUF                      | Sigla da UF                            | No contexto da cota CEAP, representa a unidade da federação pela qual o deputado foi eleito e é utilizada para definir o valor da cota a que o deputado tem.                                                                                                                                                                                                                                                                        |   |   |\n",
    "| sgPartido                 | Sigla do Partido                       | O seu conteúdo representa a sigla de um partido. Tem personalidade jurídica de direito privado e goza de autonomia e liberdade no que diz respeito à criação, organização e funcionamento, observados os princípios e preceitos constitucionais. |   |   |\n",
    "| codLegislatura            | Código da Legislatura                  | No contexto da cota CEAP, o seu conteúdo representa o código identificador da Legislatura, que um número ordinal sequencial, alterado de um em um, a cada início de uma nova Legislatura (por exemplo, a Legislatura que iniciou em 2011 é a 54ª Legislatura).                                                                    |   |   |\n",
    "| numSubCota                | Número da Subcota                      | No contexto da Cota CEAP, o conteúdo deste dado representa o código do Tipo de Despesa referente à despesa realizada pelo deputado e comprovada por meio da emissão de um documento fiscal, a qual é debitada na cota do deputado.                                                                                                                                                                                                  |   |   |\n",
    "| txtDescricao              | Descrição da Subcota                   | O seu conteúdo é a descrição do Tipo de Despesa relativo à despesa em questão.                                                                                                                                                                                                                                                                                                                                                      |   |   |\n",
    "| numEspecificacaoSubCota   | Número da Especificação da Subcota     | No contexto da Cota CEAP, há despesas cujo Tipo de Despesa necessita ter uma especificação mais detalhada (por exemplo, “Combustível”). O conteúdo deste dado representa o código desta especificação mais detalhada.                                                                                                                                                                                                               |   |   |\n",
    "| txtDescricaoEspecificacao | Descrição da Especificação da Subcota  | Representa a descrição  especificação mais detalhada de um referido Tipo de Despesa.                                                                                                                                                                                                                                                                                                                                                |   |   |\n",
    "| txtFornecedor             | Fornecedor                             | O conteúdo deste dado representa o nome do fornecedor do produto ou serviço presente no documento fiscal                                                                                                                                                                                                                                                                                                                            |   |   |\n",
    "| txtCNPJCPF                | CNPJ/CPF                               | O conteúdo deste dado representa o CNPJ ou o CPF do emitente do documento fiscal, quando se tratar do uso da cota em razão do reembolso despesas comprovadas pela emissão de documentos fiscais.                                                                                                                                                                                                                                    |   |   |\n",
    "| txtNumero                 | Número do Documento                    | O conteúdo deste dado representa o número de face do documento fiscal emitido ou o número do documento que deu causa à despesa debitada na cota do deputado.                                                                                                                                                                                                                                                                        |   |   |\n",
    "| indTipoDocumento          | Indicativo de Tipo de Documento Fiscal | Este dado representa o tipo de documento do fiscal – 0 (Zero), para Nota Fiscal; 1 (um), para Recibo; e 2, para Despesa no Exterior.                                                                                                                                                                                                                                                                                                |   |   |\n",
    "| datEmissao                | Data de Emissão                        | O conteúdo deste dado é a data de emissão do documento fiscal ou a data do documento que tenha dado causa à despesa.                                                                                                                                                                                                                                                                                                                |   |   |\n",
    "| vlrDocumento              | Valor do Documento                     | O seu conteúdo é o valor de face do documento fiscal ou o valor do documento que deu causa à despesa. Quando se tratar de bilhete aéreo, esse valor poderá ser negativo, significando que o referido bilhete é um bilhete de compensação, pois compensa um outro bilhete emitido e não utilizado pelo deputado (idem para o dado vlrLiquido abaixo).                                                                                |   |   |\n",
    "| vlrGlosa                  | Valor da Glosa                         | O seu conteúdo representa o valor da glosa do documento fiscal que incidirá sobre o Valor do Documento, ou o valor da glosa do documento que deu causa à despesa.                                                                                                                                                                                                                                                                   |   |   |\n",
    "| vlrLiquido                | Valor Líquido                          | O seu conteúdo representa o valor líquido do documento fiscal ou do documento que deu causa à despesa e será calculado pela diferença entre o Valor do Documento e o Valor da Glosa. É este valor que será debitado da cota do deputado. Caso o débito seja do Tipo Telefonia e o valor seja igual a zero, significa que a despesa foi franqueada.                                                                                  |   |   |\n",
    "| numMes                    | Mês                                    | O seu conteúdo representa o Mês da competência financeira do documento fiscal ou do documento que deu causa à despesa. É utilizado, junto com o ano, para determinar em que período o débito gerará efeito financeiro sobre a cota.                                                                                                                                                                                                 |   |   |\n",
    "| numAno                    | Ano                                    | O seu conteúdo representa o Ano da competência financeira do documento fiscal ou do documento que deu causa à despesa. É utilizado, junto com o mês, para determinar em que período o débito gerará efeito financeiro sobre a cota.                                                                                                                                                                                                 |   |   |\n",
    "| numParcela                | Número da Parcela                      | O seu conteúdo representa o número da parcela do documento fiscal. Ocorre quando o documento tem de ser reembolsado de forma parcelada.                                                                                                                                                                                                                                                                                             |   |   |\n",
    "| txtPassageiro             | Passageiro                             | O conteúdo deste dado representa o nome do passageiro, quando o documento que deu causa à despesa se tratar de emissão de bilhete aéreo.                                                                                                                                                                                                                                                                                            |   |   |\n",
    "| txtTrecho                 | Trecho                                 | O conteúdo deste dado representa o trecho da viagem, quando o documento que deu causa à despesa se tratar de emissão de bilhete aéreo.                                                                                                                                                                                                                                                                                              |   |   |\n",
    "| numLote                   | Número do Lote                         | No contexto da Cota CEAP, o Número do Lote representa uma capa de lote que agrupa os documentos que serão entregues à Câmara para serem ressarcidos. Este dado, juntamente com o Número do Ressarcimento, auxilia a localização do documento no Arquivo da Casa.                                                                                                                                                                    |   |   |\n",
    "| numRessarcimento          | Número do Ressarcimento                | No contexto da Cota CEAP, o Número do Ressarcimento indica o ressarcimento do qual o documento fez parte por ocasião do processamento do seu reembolso. Este dado, juntamente com o Valor da Restituição, auxilia a localização do documento no Arquivo da Casa.                                                                                                                                                                 |   |   |\n",
    "|  vlrRestituicao           |  Valor da Restituição                  |  O seu conteúdo representa o valor restituído do documento fiscal que incidirá sobre o Valor do Documento.                                                                                                                                                                                                                                                                                                                          |   |   |\n",
    "| nuDeputadoId              | Identificador do Solicitante           | Número que identifica um Parlamentar ou Liderança na Transparência da Cota para Exercício da Atividade Parlamentar.                                                                                                                                                                                                                                                                                                                 |   |   |\n",
    "\n",
    "\n",
    "Legislatura: Período de quatro anos coincidente com o mandato parlamentar dos Deputados Federais.\n",
    "\n",
    "Definição de partido: é uma organização formada por pessoas com interesse ou ideologia comuns, que se associam com o fim de assumir o poder para implantar um programa de governo. \n",
    "\n",
    "*Fonte*: [EXPLICAÇÕES SOBRE O FORMATO DOS ARQUIVOS XML](https://www2.camara.leg.br/transparencia/cota-para-exercicio-da-atividade-parlamentar/explicacoes-sobre-o-formato-dos-arquivos-xml)"
   ]
  },
  {
   "cell_type": "markdown",
   "id": "571f663b",
   "metadata": {
    "id": "9V6UrEjQiS4S"
   },
   "source": [
    "### Aula 04: Organizando e visualizando os dados"
   ]
  },
  {
   "cell_type": "markdown",
   "id": "ec281944",
   "metadata": {},
   "source": [
    "Vamos conhecer mais algumas operações que podem nos ajudar a visualizar e entender nossos dados."
   ]
  },
  {
   "cell_type": "code",
   "execution_count": null,
   "id": "012f95e4",
   "metadata": {},
   "outputs": [],
   "source": [
    "df_reimbursements.tail()"
   ]
  },
  {
   "cell_type": "code",
   "execution_count": null,
   "id": "b353d004",
   "metadata": {},
   "outputs": [],
   "source": [
    "df_reimbursements.shape"
   ]
  },
  {
   "cell_type": "code",
   "execution_count": null,
   "id": "7a9dfa57",
   "metadata": {},
   "outputs": [],
   "source": [
    "df_reimbursements.info()"
   ]
  },
  {
   "cell_type": "code",
   "execution_count": null,
   "id": "33def82f",
   "metadata": {},
   "outputs": [],
   "source": [
    "df_reimbursements.columns"
   ]
  },
  {
   "cell_type": "markdown",
   "id": "6f9c817f",
   "metadata": {},
   "source": [
    "#### Preenchendo valores nulos"
   ]
  },
  {
   "cell_type": "code",
   "execution_count": null,
   "id": "08d71122",
   "metadata": {
    "colab": {
     "base_uri": "https://localhost:8080/",
     "height": 462
    },
    "id": "StprWX3WdrFh",
    "outputId": "5436707a-d0f6-45f7-ccbe-52246c4cb3b6"
   },
   "outputs": [],
   "source": [
    "df_reimbursements.fillna(value=\"Não se aplica\").head()"
   ]
  },
  {
   "cell_type": "code",
   "execution_count": null,
   "id": "bcb39dca",
   "metadata": {},
   "outputs": [],
   "source": [
    "df_reimbursements[df_reimbursements.sgPartido.isna()]"
   ]
  },
  {
   "cell_type": "code",
   "execution_count": null,
   "id": "345ec402",
   "metadata": {},
   "outputs": [],
   "source": [
    "df_reimbursements[df_reimbursements['ideDocumento'].isnull()]"
   ]
  },
  {
   "cell_type": "markdown",
   "id": "d338eea5",
   "metadata": {},
   "source": [
    "#### Informando tipos na leitura dos dados\n",
    "\n",
    "Quando trabalhamos com pandas, é sempre interessante entender que tipos de dados estão contidos em cada coluna. Na leitura do arquivo podemos aproveitar para deixar isso configurado.\n",
    "\n",
    "Isso pode ser extramamente útil quando estamos lendo dados que contém informação sobre documentos, como CPF. Nesses casos podemos ter algo como `091777777`, se esse valor por lido como um número, ele vai virar `91777777`, já que não existe número que inicie com 0. Esse é um ótimo exemplo de dado que deve ser lido como um string, para que ele seja preservado ao máximo. \n",
    "\n",
    "Agora, sabendo quais dados nosso dataframe possui, vamos definir o tipo para cada um."
   ]
  },
  {
   "cell_type": "code",
   "execution_count": null,
   "id": "c022f1c8",
   "metadata": {},
   "outputs": [],
   "source": [
    "DTYPE = {\n",
    "    'txNomeParlamentar': str,\n",
    "    'ideCadastro': str,\n",
    "    'nuCarteiraParlamentar': str,\n",
    "    'nuLegislatura': str,\n",
    "    'sgUF': str,\n",
    "    'sgPartido': str,\n",
    "    'codLegislatura': str,\n",
    "    'numSubCota': str,\n",
    "    'txtDescricao': str,\n",
    "    'numEspecificacaoSubCota': str,\n",
    "    'txtDescricaoEspecificacao': str,\n",
    "    'txtFornecedor': str,\n",
    "    'txtCNPJCPF': str,\n",
    "    'txtNumero': str,\n",
    "    'indTipoDocumento': str,\n",
    "    'datEmissao': str,\n",
    "    'vlrDocumento': float,\n",
    "    'vlrGlosa': str,\n",
    "    'vlrLiquido': float,\n",
    "    'numMes': str,\n",
    "    'numAno': str,\n",
    "    'numParcela': str,\n",
    "    'txtPassageiro': str,\n",
    "    'txtTrecho': str,\n",
    "    'numLote': str,\n",
    "    'numRessarcimento': str,\n",
    "    'nuDeputadoId': str,\n",
    "    'ideDocumento': str,\n",
    "}\n",
    "\n",
    "df_reimbursements = pd.read_csv(\n",
    "    \"reembolso-2019/Ano-2019.csv\", \n",
    "    delimiter=\";\", \n",
    "    dtype=DTYPE, \n",
    "    low_memory=False\n",
    ")"
   ]
  },
  {
   "cell_type": "markdown",
   "id": "b5377bd8",
   "metadata": {},
   "source": [
    "Opa! Você lembra qual método podemos usar para conferir os tipos de cada coluna?\n",
    "**dica**: já passamos por esse método..."
   ]
  },
  {
   "cell_type": "code",
   "execution_count": null,
   "id": "e02c7464",
   "metadata": {},
   "outputs": [],
   "source": []
  },
  {
   "cell_type": "markdown",
   "id": "f048cb6e",
   "metadata": {},
   "source": [
    "#### astype"
   ]
  },
  {
   "cell_type": "code",
   "execution_count": null,
   "id": "a68a72f8",
   "metadata": {},
   "outputs": [],
   "source": [
    "# df_reimbursements[\"ideCadastro\"] = df_reimbursements[\"ideCadastro\"].astype('string')"
   ]
  },
  {
   "cell_type": "markdown",
   "id": "51e672ae",
   "metadata": {},
   "source": [
    "#### to_datetime\n",
    "\n",
    "Por default, o `to_datetime()` vai converter string no formato `MM/DD`, `MMDD` ou `MM-DD`. No nosso caso, as datas estão em um formato diferente, por isso, vamos passar como argumento do `format`o valor `%Y-%m-%d`, informando que as datas possuem primeiro o *ano* completo (ex.: 2020), *mês (ex.: 05), e dia (ex.: 12). "
   ]
  },
  {
   "cell_type": "code",
   "execution_count": null,
   "id": "8bf65f61",
   "metadata": {
    "scrolled": false
   },
   "outputs": [],
   "source": [
    "df_reimbursements[\"datEmissao\"] = pd.to_datetime(\n",
    "    df_reimbursements.datEmissao, \n",
    "    format='%Y-%m-%d'\n",
    ") "
   ]
  },
  {
   "cell_type": "markdown",
   "id": "ede6366c",
   "metadata": {},
   "source": [
    "Caso essa conversão gere algum erro, você pode informar ao pandas como ele deve lidar com isso. O `to_datetime()` possue o argumento `errors`, que pode receber `ignore` caso você queria que os erros sejam ignorados, ou `coerce` caso você queria que os valores inválidos recebam `NaT`."
   ]
  },
  {
   "cell_type": "markdown",
   "id": "c942b33f",
   "metadata": {},
   "source": [
    "##### Para quem quiser saber mais!\n",
    "\n",
    "Você deve estar se perguntando o porquê dessa conversão utilizando o `to_datetime`. _O que ganhamos com isso?_ Existem várias vantagens do Pandas entender que uma coluna é uma data. Uma dessas vantagens é que você vai poder trabalhar com os dados como uma série temporal, ou seja, um conjunto de registros ao longo do tempo. \n",
    "\n",
    "Os reembolsos se encaixam bem nisso... pense só, nossos dados são um conjunto de pedidos de reembolsos solicitados ao longo de um ano. Quando convertemos o dados para um datetime, podemos realizar algumas operações que só são possíveis com datas. Por exemplo, podemos selecionar uma janela de tempo:"
   ]
  },
  {
   "cell_type": "code",
   "execution_count": null,
   "id": "f19fbf56",
   "metadata": {},
   "outputs": [],
   "source": [
    "df_reimbursements.set_index(\"datEmissao\").loc[\"2020-01-01\":\"2020-04-30\"]"
   ]
  },
  {
   "cell_type": "markdown",
   "id": "2cf004ba",
   "metadata": {},
   "source": [
    "Outras coisas são possíveis, como encontrar o dia da semana de cada uma dessas datas, calcular a média móvel, calcular quantos anos se passaram, ou agrupar os dados por janelas de tempo."
   ]
  },
  {
   "cell_type": "markdown",
   "id": "e8bb3954",
   "metadata": {},
   "source": [
    "#### Completando, substituindo e reformatando"
   ]
  },
  {
   "cell_type": "code",
   "execution_count": 16,
   "id": "72548aa5",
   "metadata": {},
   "outputs": [
    {
     "name": "stderr",
     "output_type": "stream",
     "text": [
      "<ipython-input-16-52a198d72f24>:2: FutureWarning: The default value of regex will change from True to False in a future version.\n",
      "  df_reimbursements[\"txtCNPJCPF\"] = df_reimbursements[\"txtCNPJCPF\"].str.replace(r'\\D', '')\n"
     ]
    }
   ],
   "source": [
    "# vamos trocar qualquer caracter que não seja um dígito número por '', essa operação remove os dígitos\n",
    "df_reimbursements[\"txtCNPJCPF\"] = df_reimbursements[\"txtCNPJCPF\"].str.replace(r'\\D', '')"
   ]
  },
  {
   "cell_type": "code",
   "execution_count": 17,
   "id": "7c31b966",
   "metadata": {},
   "outputs": [
    {
     "data": {
      "text/plain": [
       "array([4, 0, 1, 3, 2])"
      ]
     },
     "execution_count": 17,
     "metadata": {},
     "output_type": "execute_result"
    }
   ],
   "source": [
    "# Este dado representa o tipo de documento do fiscal – \n",
    "# 0 (Zero), para Nota Fiscal; 1 (um), para Recibo; e 2, para Despesa no Exterior.\n",
    "\n",
    "df_reimbursements.indTipoDocumento.unique()"
   ]
  },
  {
   "cell_type": "code",
   "execution_count": 18,
   "id": "5166905a",
   "metadata": {},
   "outputs": [
    {
     "data": {
      "text/plain": [
       "{'0': 'nota_fiscal', '1': 'recibo', '2': 'despesa_exterior', '4': None}"
      ]
     },
     "execution_count": 18,
     "metadata": {},
     "output_type": "execute_result"
    }
   ],
   "source": [
    "converters = {\n",
    "    \"0\": 'nota_fiscal',\n",
    "    \"1\": 'recibo',\n",
    "    \"2\": 'despesa_exterior',\n",
    "    \"4\": None\n",
    "}\n",
    "\n",
    "converters"
   ]
  },
  {
   "cell_type": "code",
   "execution_count": 19,
   "id": "0b7a82b2",
   "metadata": {},
   "outputs": [],
   "source": [
    "df_reimbursements.indTipoDocumento.replace(converters, inplace=True)"
   ]
  },
  {
   "cell_type": "code",
   "execution_count": 20,
   "id": "f521b74b",
   "metadata": {},
   "outputs": [
    {
     "data": {
      "text/plain": [
       "array([4, 0, 1, 3, 2])"
      ]
     },
     "execution_count": 20,
     "metadata": {},
     "output_type": "execute_result"
    }
   ],
   "source": [
    "df_reimbursements.indTipoDocumento.unique()"
   ]
  },
  {
   "cell_type": "markdown",
   "id": "e298cf13",
   "metadata": {},
   "source": [
    "## Atenção\n",
    "\n",
    "Alguns reembolsos aparecem divididos: eles estão associados ao mesmo número de documento ('ideDocumento'), mas os valores reembolsados aparecem parcelados. \n",
    "\n",
    "Isso pode gerar análises erradas, se não tomarmos cuidado. Por exemplo, isso pode afetar uma análise de frequência de pedidos de reembolso, se só olharmos quantos registros estão associados ao parlamentar."
   ]
  },
  {
   "cell_type": "code",
   "execution_count": 21,
   "id": "c4f5fa9b",
   "metadata": {},
   "outputs": [
    {
     "data": {
      "text/html": [
       "<div>\n",
       "<style scoped>\n",
       "    .dataframe tbody tr th:only-of-type {\n",
       "        vertical-align: middle;\n",
       "    }\n",
       "\n",
       "    .dataframe tbody tr th {\n",
       "        vertical-align: top;\n",
       "    }\n",
       "\n",
       "    .dataframe thead th {\n",
       "        text-align: right;\n",
       "    }\n",
       "</style>\n",
       "<table border=\"1\" class=\"dataframe\">\n",
       "  <thead>\n",
       "    <tr style=\"text-align: right;\">\n",
       "      <th></th>\n",
       "      <th>ideDocumento</th>\n",
       "      <th>numAno</th>\n",
       "      <th>nuDeputadoId</th>\n",
       "      <th>vlrLiquidoTotal</th>\n",
       "    </tr>\n",
       "  </thead>\n",
       "  <tbody>\n",
       "    <tr>\n",
       "      <th>0</th>\n",
       "      <td>0</td>\n",
       "      <td>2019</td>\n",
       "      <td>19</td>\n",
       "      <td>466.79</td>\n",
       "    </tr>\n",
       "    <tr>\n",
       "      <th>1</th>\n",
       "      <td>0</td>\n",
       "      <td>2019</td>\n",
       "      <td>74</td>\n",
       "      <td>3716.30</td>\n",
       "    </tr>\n",
       "    <tr>\n",
       "      <th>2</th>\n",
       "      <td>0</td>\n",
       "      <td>2019</td>\n",
       "      <td>80</td>\n",
       "      <td>1436.20</td>\n",
       "    </tr>\n",
       "    <tr>\n",
       "      <th>3</th>\n",
       "      <td>0</td>\n",
       "      <td>2019</td>\n",
       "      <td>98</td>\n",
       "      <td>1.25</td>\n",
       "    </tr>\n",
       "    <tr>\n",
       "      <th>4</th>\n",
       "      <td>0</td>\n",
       "      <td>2019</td>\n",
       "      <td>137</td>\n",
       "      <td>93199.06</td>\n",
       "    </tr>\n",
       "    <tr>\n",
       "      <th>...</th>\n",
       "      <td>...</td>\n",
       "      <td>...</td>\n",
       "      <td>...</td>\n",
       "      <td>...</td>\n",
       "    </tr>\n",
       "    <tr>\n",
       "      <th>260867</th>\n",
       "      <td>7039994</td>\n",
       "      <td>2019</td>\n",
       "      <td>3199</td>\n",
       "      <td>4950.00</td>\n",
       "    </tr>\n",
       "    <tr>\n",
       "      <th>260868</th>\n",
       "      <td>7040646</td>\n",
       "      <td>2019</td>\n",
       "      <td>3292</td>\n",
       "      <td>8500.00</td>\n",
       "    </tr>\n",
       "    <tr>\n",
       "      <th>260869</th>\n",
       "      <td>7041409</td>\n",
       "      <td>2019</td>\n",
       "      <td>3392</td>\n",
       "      <td>3971.91</td>\n",
       "    </tr>\n",
       "    <tr>\n",
       "      <th>260870</th>\n",
       "      <td>7043699</td>\n",
       "      <td>2019</td>\n",
       "      <td>3031</td>\n",
       "      <td>3316.49</td>\n",
       "    </tr>\n",
       "    <tr>\n",
       "      <th>260871</th>\n",
       "      <td>7043766</td>\n",
       "      <td>2019</td>\n",
       "      <td>3086</td>\n",
       "      <td>350.00</td>\n",
       "    </tr>\n",
       "  </tbody>\n",
       "</table>\n",
       "<p>260872 rows × 4 columns</p>\n",
       "</div>"
      ],
      "text/plain": [
       "        ideDocumento  numAno  nuDeputadoId  vlrLiquidoTotal\n",
       "0                  0    2019            19           466.79\n",
       "1                  0    2019            74          3716.30\n",
       "2                  0    2019            80          1436.20\n",
       "3                  0    2019            98             1.25\n",
       "4                  0    2019           137         93199.06\n",
       "...              ...     ...           ...              ...\n",
       "260867       7039994    2019          3199          4950.00\n",
       "260868       7040646    2019          3292          8500.00\n",
       "260869       7041409    2019          3392          3971.91\n",
       "260870       7043699    2019          3031          3316.49\n",
       "260871       7043766    2019          3086           350.00\n",
       "\n",
       "[260872 rows x 4 columns]"
      ]
     },
     "execution_count": 21,
     "metadata": {},
     "output_type": "execute_result"
    }
   ],
   "source": [
    "keys = ['ideDocumento', 'numAno', 'nuDeputadoId']\n",
    "\n",
    "grouped = df_reimbursements.groupby(keys)[\"vlrLiquido\"].agg(\"sum\").rename(index=\"vlrLiquidoTotal\").reset_index()\n",
    "grouped"
   ]
  },
  {
   "cell_type": "code",
   "execution_count": 22,
   "id": "e3f3e1bc",
   "metadata": {},
   "outputs": [
    {
     "data": {
      "text/html": [
       "<div>\n",
       "<style scoped>\n",
       "    .dataframe tbody tr th:only-of-type {\n",
       "        vertical-align: middle;\n",
       "    }\n",
       "\n",
       "    .dataframe tbody tr th {\n",
       "        vertical-align: top;\n",
       "    }\n",
       "\n",
       "    .dataframe thead th {\n",
       "        text-align: right;\n",
       "    }\n",
       "</style>\n",
       "<table border=\"1\" class=\"dataframe\">\n",
       "  <thead>\n",
       "    <tr style=\"text-align: right;\">\n",
       "      <th></th>\n",
       "      <th>txNomeParlamentar</th>\n",
       "      <th>cpf</th>\n",
       "      <th>ideCadastro</th>\n",
       "      <th>nuCarteiraParlamentar</th>\n",
       "      <th>nuLegislatura</th>\n",
       "      <th>sgUF</th>\n",
       "      <th>sgPartido</th>\n",
       "      <th>codLegislatura</th>\n",
       "      <th>numSubCota</th>\n",
       "      <th>txtDescricao</th>\n",
       "      <th>...</th>\n",
       "      <th>numParcela</th>\n",
       "      <th>txtPassageiro</th>\n",
       "      <th>txtTrecho</th>\n",
       "      <th>numLote</th>\n",
       "      <th>numRessarcimento</th>\n",
       "      <th>vlrRestituicao</th>\n",
       "      <th>nuDeputadoId</th>\n",
       "      <th>ideDocumento</th>\n",
       "      <th>urlDocumento</th>\n",
       "      <th>vlrLiquidoTotal</th>\n",
       "    </tr>\n",
       "  </thead>\n",
       "  <tbody>\n",
       "    <tr>\n",
       "      <th>0</th>\n",
       "      <td>LID.GOV-CD</td>\n",
       "      <td>NaN</td>\n",
       "      <td>NaN</td>\n",
       "      <td>NaN</td>\n",
       "      <td>2015</td>\n",
       "      <td>NaN</td>\n",
       "      <td>NaN</td>\n",
       "      <td>55</td>\n",
       "      <td>13</td>\n",
       "      <td>FORNECIMENTO DE ALIMENTAÇÃO DO PARLAMENTAR</td>\n",
       "      <td>...</td>\n",
       "      <td>0</td>\n",
       "      <td>NaN</td>\n",
       "      <td>NaN</td>\n",
       "      <td>1554246</td>\n",
       "      <td>NaN</td>\n",
       "      <td>NaN</td>\n",
       "      <td>2812</td>\n",
       "      <td>6738121</td>\n",
       "      <td>http://camara.leg.br/cota-parlamentar/nota-fis...</td>\n",
       "      <td>111.3</td>\n",
       "    </tr>\n",
       "  </tbody>\n",
       "</table>\n",
       "<p>1 rows × 32 columns</p>\n",
       "</div>"
      ],
      "text/plain": [
       "  txNomeParlamentar  cpf  ideCadastro  nuCarteiraParlamentar  nuLegislatura  \\\n",
       "0        LID.GOV-CD  NaN          NaN                    NaN           2015   \n",
       "\n",
       "  sgUF sgPartido  codLegislatura  numSubCota  \\\n",
       "0  NaN       NaN              55          13   \n",
       "\n",
       "                                 txtDescricao  ...  numParcela txtPassageiro  \\\n",
       "0  FORNECIMENTO DE ALIMENTAÇÃO DO PARLAMENTAR  ...           0           NaN   \n",
       "\n",
       "  txtTrecho  numLote numRessarcimento  vlrRestituicao nuDeputadoId  \\\n",
       "0       NaN  1554246              NaN             NaN         2812   \n",
       "\n",
       "   ideDocumento                                       urlDocumento  \\\n",
       "0       6738121  http://camara.leg.br/cota-parlamentar/nota-fis...   \n",
       "\n",
       "   vlrLiquidoTotal  \n",
       "0            111.3  \n",
       "\n",
       "[1 rows x 32 columns]"
      ]
     },
     "execution_count": 22,
     "metadata": {},
     "output_type": "execute_result"
    }
   ],
   "source": [
    "df_reimbursements = pd.merge(df_reimbursements, grouped, on=keys)\n",
    "df_reimbursements.head(1)"
   ]
  },
  {
   "cell_type": "markdown",
   "id": "644512e6",
   "metadata": {},
   "source": [
    "### Aula 07: Dados da Receita Federal"
   ]
  },
  {
   "cell_type": "code",
   "execution_count": null,
   "id": "8bd54633",
   "metadata": {},
   "outputs": [],
   "source": [
    "DTYPE = {\n",
    "    'cnpj': str,\n",
    "}\n",
    "\n",
    "df_empresas = pd.read_csv(\n",
    "    '2019-11-19-companies.csv.xz', \n",
    "    compression='xz',\n",
    "    dtype=DTYPE,  \n",
    ")\n",
    "df_empresas.head(1)"
   ]
  },
  {
   "cell_type": "code",
   "execution_count": null,
   "id": "b37a6a71",
   "metadata": {},
   "outputs": [],
   "source": [
    "df_empresas['situation_date'] = pd.to_datetime(\n",
    "    df_empresas['situation_date'], \n",
    "    format=\"%Y-%m-%d\"\n",
    ")"
   ]
  },
  {
   "cell_type": "code",
   "execution_count": null,
   "id": "fe66149b",
   "metadata": {},
   "outputs": [],
   "source": [
    "df_empresas[\"cnpj\"] = df[\"cnpj\"].str.replace(r'\\D', '', regex=True)"
   ]
  },
  {
   "cell_type": "markdown",
   "id": "ce90ab8d",
   "metadata": {},
   "source": [
    "### Aula 8: Receita Federal e CEAP"
   ]
  },
  {
   "cell_type": "code",
   "execution_count": null,
   "id": "7b86ed96",
   "metadata": {},
   "outputs": [],
   "source": [
    "df_final = df.merge(\n",
    "    df_empresas,\n",
    "    how='left',\n",
    "    left_on='txtCNPJCPF',\n",
    "    right_on='cnpj'\n",
    ")"
   ]
  },
  {
   "cell_type": "markdown",
   "id": "f4f63b07",
   "metadata": {},
   "source": [
    "### Exportando o resultado"
   ]
  },
  {
   "cell_type": "code",
   "execution_count": null,
   "id": "8cd4db3d",
   "metadata": {},
   "outputs": [],
   "source": [
    "df_reimbursements.to_csv('reembolso-2019-completo.csv')"
   ]
  }
 ],
 "metadata": {
  "kernelspec": {
   "display_name": "Python 3",
   "language": "python",
   "name": "python3"
  },
  "language_info": {
   "codemirror_mode": {
    "name": "ipython",
    "version": 3
   },
   "file_extension": ".py",
   "mimetype": "text/x-python",
   "name": "python",
   "nbconvert_exporter": "python",
   "pygments_lexer": "ipython3",
   "version": "3.7.4"
  },
  "toc": {
   "base_numbering": 1,
   "nav_menu": {},
   "number_sections": true,
   "sideBar": true,
   "skip_h1_title": false,
   "title_cell": "Table of Contents",
   "title_sidebar": "Contents",
   "toc_cell": false,
   "toc_position": {
    "height": "calc(100% - 180px)",
    "left": "10px",
    "top": "150px",
    "width": "165px"
   },
   "toc_section_display": true,
   "toc_window_display": true
  }
 },
 "nbformat": 4,
 "nbformat_minor": 5
}
